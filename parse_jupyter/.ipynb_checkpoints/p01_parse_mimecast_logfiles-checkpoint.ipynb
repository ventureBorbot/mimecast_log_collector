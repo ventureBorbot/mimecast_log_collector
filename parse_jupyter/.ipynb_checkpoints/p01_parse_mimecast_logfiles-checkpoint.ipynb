{
 "cells": [
  {
   "cell_type": "code",
   "execution_count": null,
   "metadata": {},
   "outputs": [],
   "source": [
    "import pandas as pd\n",
    "import glob\n",
    "pd.set_option('display.max_rows', 500)\n",
    "pd.set_option('display.max_columns', 500)\n",
    "pd.set_option('display.width', 10000)\n",
    "\n",
    "import time\n"
   ]
  },
  {
   "cell_type": "code",
   "execution_count": null,
   "metadata": {},
   "outputs": [],
   "source": [
    "##################Print Multiple Cmds#####################\n",
    "from IPython.core.interactiveshell import InteractiveShell\n",
    "InteractiveShell.ast_node_interactivity = \"all\""
   ]
  },
  {
   "cell_type": "markdown",
   "metadata": {},
   "source": [
    "# IO & PARSING FUNCTIONS"
   ]
  },
  {
   "cell_type": "code",
   "execution_count": null,
   "metadata": {},
   "outputs": [],
   "source": [
    "def read_multilog(f):\n",
    "    lst = []\n",
    "    with open(f, 'r', encoding='utf8') as filehandle:\n",
    "        for line in filehandle:\n",
    "            lst.append(line)\n",
    "    return lst"
   ]
  },
  {
   "cell_type": "code",
   "execution_count": null,
   "metadata": {},
   "outputs": [],
   "source": [
    "def clean_multilog(logList):\n",
    "    lst = []\n",
    "    for item in range(len(logList)):\n",
    "        temp = logList[item].replace('\\n','')\n",
    "        lst.append(temp)\n",
    "    return lst"
   ]
  },
  {
   "cell_type": "code",
   "execution_count": null,
   "metadata": {},
   "outputs": [],
   "source": [
    "def split_pipes(logList):\n",
    "    splitList = []\n",
    "    for ii in range(len(logList)):\n",
    "        temp = logList[ii].split('|')\n",
    "    return temp"
   ]
  },
  {
   "cell_type": "markdown",
   "metadata": {},
   "source": [
    "# COMBINE FUNCTIONS"
   ]
  },
  {
   "cell_type": "code",
   "execution_count": null,
   "metadata": {
    "scrolled": false
   },
   "outputs": [],
   "source": [
    "def combine_logfiles(log_file_list):\n",
    "    combined_logs = []\n",
    "    filename_list = []\n",
    "    for log_file in range(len(log_file_list)):\n",
    "        read_list = read_multilog(log_file_list[log_file])\n",
    "        temp = clean_multilog(read_list)\n",
    "#         print(len(temp))\n",
    "        if len(temp) == 1:\n",
    "            temp1 = split_pipes(temp)\n",
    "            combined_logs.append(temp1)\n",
    "            filename_list.append(log_file_list[log_file])\n",
    "        else:\n",
    "            for item in range(len(temp)):\n",
    "                combined_logs.append(temp[item].split('|'))\n",
    "                filename_list.append(log_file_list[log_file])\n",
    "    return combined_logs, filename_list"
   ]
  },
  {
   "cell_type": "code",
   "execution_count": null,
   "metadata": {
    "scrolled": false
   },
   "outputs": [],
   "source": [
    "def split_equalSign_combine(combined_list, filename_list):\n",
    "    df = pd.DataFrame()\n",
    "    for item in range(len(combined_list)):\n",
    "        fields = []\n",
    "        values = []\n",
    "        for record in range(len(combined_list[item])):\n",
    "            temp_record = combined_list[item][record].split('=',1)\n",
    "            fields.append(temp_record[0])\n",
    "            values.append(temp_record[1])\n",
    "\n",
    "        temp_df = pd.DataFrame(data=values).T\n",
    "        temp_df.columns = fields\n",
    "        df = df.append(temp_df, sort=False)\n",
    "\n",
    "    df = pd.concat([pd.DataFrame(filename_list, columns=['Filename']), df.reset_index(drop=True)], axis=1)\n",
    "    return df"
   ]
  },
  {
   "cell_type": "markdown",
   "metadata": {},
   "source": [
    "# Process logs"
   ]
  },
  {
   "cell_type": "markdown",
   "metadata": {},
   "source": [
    "### segment mimecast traffic logfiles - receipt / process / delivery / jrnl"
   ]
  },
  {
   "cell_type": "code",
   "execution_count": null,
   "metadata": {},
   "outputs": [],
   "source": [
    "# traffic_receipt_logfiles = glob.glob('C:/Users/R011846/Desktop/full_logfiles_test/receipt*.log')\n",
    "# print('receipt count:', len(traffic_receipt_logfiles))\n",
    "# traffic_process_logfiles = glob.glob('C:/Users/R011846/Desktop/full_logfiles_test/process*.log')\n",
    "# print('process count:', len(traffic_process_logfiles))\n",
    "# traffic_delivery_logfiles = glob.glob('C:/Users/R011846/Desktop/full_logfiles_test/delivery*.log')\n",
    "# print('delivery count:', len(traffic_delivery_logfiles))\n",
    "# traffic_jrnl_logfiles = glob.glob('C:/Users/R011846/Desktop/full_logfiles_test/jrnl*.log')\n",
    "# print('jrnl count:', len(traffic_jrnl_logfiles))"
   ]
  },
  {
   "cell_type": "markdown",
   "metadata": {},
   "source": [
    "### complete logfile traffic"
   ]
  },
  {
   "cell_type": "code",
   "execution_count": null,
   "metadata": {},
   "outputs": [],
   "source": [
    "# log_file_list = glob.glob('C:/Users/R011846/Desktop/full_logfiles_test/*.log')\n",
    "# print('all logs count:', len(log_file_list))"
   ]
  },
  {
   "cell_type": "markdown",
   "metadata": {},
   "source": [
    "### get column of logfile traffic type values - receipt / process / delivery / jrnl"
   ]
  },
  {
   "cell_type": "code",
   "execution_count": null,
   "metadata": {},
   "outputs": [],
   "source": [
    "# temp_list = []\n",
    "# for blah in range(len(log_file_list)):\n",
    "#     temp_list.append(log_file_list[blah].split('\\\\')[1].split('_')[0])\n",
    "# email_traffic_types = pd.DataFrame(data=save_me, columns=['log_type'])"
   ]
  },
  {
   "cell_type": "markdown",
   "metadata": {},
   "source": [
    "# Combine Logs"
   ]
  },
  {
   "cell_type": "markdown",
   "metadata": {},
   "source": [
    "### Receipt"
   ]
  },
  {
   "cell_type": "code",
   "execution_count": null,
   "metadata": {
    "scrolled": false
   },
   "outputs": [],
   "source": [
    "# combined_receipt_list, receipt_filename_list = combine_logfiles(traffic_receipt_logfiles)\n",
    "# print('\\nreceipt clean list count:', len(combined_receipt_list))"
   ]
  },
  {
   "cell_type": "markdown",
   "metadata": {},
   "source": [
    "### Process"
   ]
  },
  {
   "cell_type": "code",
   "execution_count": null,
   "metadata": {
    "scrolled": false
   },
   "outputs": [],
   "source": [
    "# combined_process_list, process_filename_list = combine_logfiles(traffic_process_logfiles)\n",
    "# print('\\nprocess clean list count:', len(combined_process_list))"
   ]
  },
  {
   "cell_type": "markdown",
   "metadata": {},
   "source": [
    "### Delivery"
   ]
  },
  {
   "cell_type": "code",
   "execution_count": null,
   "metadata": {
    "scrolled": false
   },
   "outputs": [],
   "source": [
    "# combined_delivery_list, delivery_filename_list = combine_logfiles(traffic_delivery_logfiles)\n",
    "# print('\\ndelivery clean list count:', len(combined_delivery_list))"
   ]
  },
  {
   "cell_type": "markdown",
   "metadata": {},
   "source": [
    "# Create & write combined dataframe"
   ]
  },
  {
   "cell_type": "markdown",
   "metadata": {},
   "source": [
    "## Receipt"
   ]
  },
  {
   "cell_type": "code",
   "execution_count": null,
   "metadata": {},
   "outputs": [],
   "source": [
    "# start = time.time()\n",
    "# df_receipt = split_equalSign_combine(combined_receipt_list, receipt_filename_list)\n",
    "# end = time.time()\n",
    "\n",
    "# print('elapsed time in seconds: {:0.1f}'.format(end - start))\n",
    "# print('final dataframe shape:', df_receipt.shape)"
   ]
  },
  {
   "cell_type": "markdown",
   "metadata": {},
   "source": [
    "- Example durations: 700s, n=31,308 \n",
    "#### Output receipt pickle"
   ]
  },
  {
   "cell_type": "code",
   "execution_count": null,
   "metadata": {},
   "outputs": [],
   "source": [
    "pklName = 'all_receipt.pkl'\n",
    "# df_receipt.to_pickle(plkName)\n",
    "df_receipt = pd.read_pickle(pklName)\n",
    "df_receipt.shape"
   ]
  },
  {
   "cell_type": "markdown",
   "metadata": {},
   "source": [
    "## Process"
   ]
  },
  {
   "cell_type": "code",
   "execution_count": null,
   "metadata": {},
   "outputs": [],
   "source": [
    "# start = time.time()\n",
    "# df_process = split_equalSign_combine(combined_process_list, process_filename_list)\n",
    "# end = time.time()\n",
    "\n",
    "# print('elapsed time in seconds: {:0.1f}'.format(end - start))\n",
    "# print('final dataframe shape:', df_process.shape)"
   ]
  },
  {
   "cell_type": "markdown",
   "metadata": {},
   "source": [
    "- Example durations: 194s, n=24,303\n",
    "#### Output process pickle"
   ]
  },
  {
   "cell_type": "code",
   "execution_count": null,
   "metadata": {},
   "outputs": [],
   "source": [
    "pklName = 'all_process.pkl'\n",
    "# # df_process.to_pickle(plkName)\n",
    "df_process = pd.read_pickle(pklName)\n",
    "df_process.shape"
   ]
  },
  {
   "cell_type": "markdown",
   "metadata": {},
   "source": [
    "## Delivery"
   ]
  },
  {
   "cell_type": "code",
   "execution_count": null,
   "metadata": {},
   "outputs": [],
   "source": [
    "# start = time.time()\n",
    "# df_delivery = split_equalSign_combine(combined_delivery_list, delivery_filename_list)\n",
    "# end = time.time()\n",
    "\n",
    "# print('elapsed time in seconds: {:0.1f}'.format(end - start))\n",
    "# print('final dataframe shape:', df_delivery.shape)"
   ]
  },
  {
   "cell_type": "markdown",
   "metadata": {},
   "source": [
    "- Example durations: 574.2, n=25,555\n",
    "#### Output delivery pickle"
   ]
  },
  {
   "cell_type": "code",
   "execution_count": null,
   "metadata": {},
   "outputs": [],
   "source": [
    "pklName = 'all_delivery.pkl'\n",
    "# # df_delivery.to_pickle(pklName)\n",
    "df_delivery = pd.read_pickle(pklName)\n",
    "df_delivery.shape"
   ]
  },
  {
   "cell_type": "markdown",
   "metadata": {},
   "source": [
    "# Process email logs direction - only INBOUND"
   ]
  },
  {
   "cell_type": "markdown",
   "metadata": {},
   "source": [
    "## Receipt"
   ]
  },
  {
   "cell_type": "code",
   "execution_count": null,
   "metadata": {},
   "outputs": [],
   "source": [
    "df_receipt.Dir.value_counts()\n",
    "\n",
    "df_inbound_rec = df_receipt[df_receipt.Dir == 'Inbound'].reset_index(drop=True)\n",
    "# df_outbound = df_receipt[df_receipt.Dir == 'Outbound'].reset_index(drop=True)\n",
    "# df_external = df_receipt[df_receipt.Dir == 'External'].reset_index(drop=True)\n",
    "# df_internal = df_receipt[df_receipt.Dir == 'Internal'].reset_index(drop=True)\n",
    "df_inbound_rec.columns"
   ]
  },
  {
   "cell_type": "code",
   "execution_count": null,
   "metadata": {},
   "outputs": [],
   "source": [
    "# df_inbound.isna().sum()"
   ]
  },
  {
   "cell_type": "code",
   "execution_count": null,
   "metadata": {},
   "outputs": [],
   "source": [
    "# df_inbound[~df_inbound.Virus.isna()].Filename\n",
    "# df_inbound[~df_inbound.Virus.isna()].Filename[404]"
   ]
  },
  {
   "cell_type": "code",
   "execution_count": null,
   "metadata": {},
   "outputs": [],
   "source": [
    "# df_inbound.iloc[404]"
   ]
  },
  {
   "cell_type": "markdown",
   "metadata": {},
   "source": [
    "## Process - NO DIRECTION - will try to link acodes"
   ]
  },
  {
   "cell_type": "code",
   "execution_count": null,
   "metadata": {},
   "outputs": [],
   "source": [
    "df_process.shape\n",
    "df_process.columns"
   ]
  },
  {
   "cell_type": "code",
   "execution_count": null,
   "metadata": {},
   "outputs": [],
   "source": [
    "# df_process.isna().sum()"
   ]
  },
  {
   "cell_type": "code",
   "execution_count": null,
   "metadata": {},
   "outputs": [],
   "source": [
    "# df_process[~df_process.Hld.isna()].head(1)\n",
    "# df_process[~df_process.Hld.isna()].Filename[105]"
   ]
  },
  {
   "cell_type": "markdown",
   "metadata": {},
   "source": [
    "## Delivery"
   ]
  },
  {
   "cell_type": "code",
   "execution_count": null,
   "metadata": {},
   "outputs": [],
   "source": [
    "df_delivery.Dir.value_counts()\n",
    "\n",
    "df_inbound_del = df_delivery[df_delivery.Dir == 'Inbound'].reset_index(drop=True)\n",
    "# df_outbound = df_delivery[df_delivery.Dir == 'Outbound'].reset_index(drop=True)\n",
    "# df_external = df_delivery[df_delivery.Dir == 'External'].reset_index(drop=True)\n",
    "# df_internal = df_delivery[df_delivery.Dir == 'Internal'].reset_index(drop=True)\n",
    "df_inbound_del.columns"
   ]
  },
  {
   "cell_type": "code",
   "execution_count": null,
   "metadata": {},
   "outputs": [],
   "source": [
    "# df_inbound.isna().sum()"
   ]
  },
  {
   "cell_type": "code",
   "execution_count": null,
   "metadata": {},
   "outputs": [],
   "source": [
    "# df_inbound[df_inbound.Route.isna()].Filename\n",
    "# df_inbound[df_inbound.Route.isna()].Filename[43]"
   ]
  },
  {
   "cell_type": "code",
   "execution_count": null,
   "metadata": {},
   "outputs": [],
   "source": [
    "# df_inbound.iloc[43]"
   ]
  },
  {
   "cell_type": "markdown",
   "metadata": {},
   "source": [
    "# Join Data"
   ]
  },
  {
   "cell_type": "code",
   "execution_count": null,
   "metadata": {},
   "outputs": [],
   "source": [
    "df_inbound_receipt = df_inbound_rec.set_index('aCode').join(\n",
    "    df_process.set_index('aCode'), lsuffix='_receipt', rsuffix='_process', how='inner').join(\n",
    "    df_inbound_del.set_index('aCode'), rsuffix='_delivery', how='inner')"
   ]
  },
  {
   "cell_type": "code",
   "execution_count": null,
   "metadata": {},
   "outputs": [],
   "source": [
    "df_inbound_receipt.shape"
   ]
  },
  {
   "cell_type": "code",
   "execution_count": null,
   "metadata": {},
   "outputs": [],
   "source": []
  }
 ],
 "metadata": {
  "kernelspec": {
   "display_name": "Python 3",
   "language": "python",
   "name": "python3"
  },
  "language_info": {
   "codemirror_mode": {
    "name": "ipython",
    "version": 3
   },
   "file_extension": ".py",
   "mimetype": "text/x-python",
   "name": "python",
   "nbconvert_exporter": "python",
   "pygments_lexer": "ipython3",
   "version": "3.6.7"
  }
 },
 "nbformat": 4,
 "nbformat_minor": 4
}
