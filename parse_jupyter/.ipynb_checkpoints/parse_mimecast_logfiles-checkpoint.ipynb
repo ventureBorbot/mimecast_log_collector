{
 "cells": [
  {
   "cell_type": "code",
   "execution_count": null,
   "metadata": {},
   "outputs": [],
   "source": [
    "import pandas as pd\n",
    "import glob\n",
    "pd.set_option('display.max_rows', 500)\n",
    "pd.set_option('display.max_columns', 500)\n",
    "pd.set_option('display.width', 10000)"
   ]
  },
  {
   "cell_type": "code",
   "execution_count": null,
   "metadata": {},
   "outputs": [],
   "source": [
    "##################Print Multiple Cmds#####################\n",
    "from IPython.core.interactiveshell import InteractiveShell\n",
    "InteractiveShell.ast_node_interactivity = \"all\""
   ]
  },
  {
   "cell_type": "code",
   "execution_count": null,
   "metadata": {},
   "outputs": [],
   "source": [
    "def read_multilog(f):\n",
    "    lst = []\n",
    "    with open(f, 'r', encoding='utf8') as filehandle:\n",
    "        for line in filehandle:\n",
    "            lst.append(line)\n",
    "    return lst"
   ]
  },
  {
   "cell_type": "code",
   "execution_count": null,
   "metadata": {},
   "outputs": [],
   "source": [
    "def clean_multilog(logList):\n",
    "    lst = []\n",
    "    for item in range(len(logList)):\n",
    "        temp = logList[item].replace('\\n','')\n",
    "        lst.append(temp)\n",
    "    return lst"
   ]
  },
  {
   "cell_type": "code",
   "execution_count": null,
   "metadata": {},
   "outputs": [],
   "source": [
    "def split_pipes(logList):\n",
    "    splitList = []\n",
    "    for ii in range(len(logList)):\n",
    "        temp = logList[ii].split('|')\n",
    "    return temp"
   ]
  },
  {
   "cell_type": "code",
   "execution_count": null,
   "metadata": {},
   "outputs": [],
   "source": []
  },
  {
   "cell_type": "code",
   "execution_count": null,
   "metadata": {
    "scrolled": false
   },
   "outputs": [],
   "source": [
    "def combine_lists(log_file_list):\n",
    "    combined_list = []\n",
    "    filename_list = []\n",
    "    for log_file in range(len(log_file_list)):\n",
    "        read_list = read_multilog(log_file_list[log_file])\n",
    "        temp = clean_multilog(read_list)\n",
    "#         print(len(temp))\n",
    "        if len(temp) == 1:\n",
    "            temp1 = split_pipes(temp)\n",
    "            combined_list.append(temp1)\n",
    "            filename_list.append(log_file_list[log_file])\n",
    "        else:\n",
    "            for item in range(len(temp)):\n",
    "                combined_list.append(temp[item].split('|'))\n",
    "                filename_list.append(log_file_list[log_file])\n",
    "    return combined_list, filename_list"
   ]
  },
  {
   "cell_type": "code",
   "execution_count": null,
   "metadata": {
    "scrolled": false
   },
   "outputs": [],
   "source": [
    "def split_equal_combine(combined_list):\n",
    "    df = pd.DataFrame()\n",
    "    for item in range(len(combined_list)):\n",
    "        fields = []\n",
    "        values = []\n",
    "        for record in range(len(combined_list[item])):\n",
    "            temp_record = combined_list[item][record].split('=',1)\n",
    "            fields.append(temp_record[0])\n",
    "            values.append(temp_record[1])\n",
    "\n",
    "        temp_df = pd.DataFrame(data=values).T\n",
    "        temp_df.columns = fields\n",
    "        df = df.append(temp_df, sort=False)\n",
    "\n",
    "    df = pd.concat([pd.DataFrame(filename_list,columns=['Filename']), df.reset_index(drop=True)], axis=1)\n",
    "    return df"
   ]
  },
  {
   "cell_type": "markdown",
   "metadata": {},
   "source": [
    "# Process logs"
   ]
  },
  {
   "cell_type": "markdown",
   "metadata": {},
   "source": [
    "### segment mimecast traffic logfiles - receipt / process / delivery / jrnl"
   ]
  },
  {
   "cell_type": "code",
   "execution_count": null,
   "metadata": {},
   "outputs": [],
   "source": [
    "traffic_receipt_logfiles = glob.glob('C:/Users/R011846/Desktop/full_logfiles_test/receipt*.log')\n",
    "print('receipt count:', len(traffic_receipt_logfiles))\n",
    "traffic_process_logfiles = glob.glob('C:/Users/R011846/Desktop/full_logfiles_test/process*.log')\n",
    "print('process count:', len(traffic_process_logfiles))\n",
    "traffic_delivery_logfiles = glob.glob('C:/Users/R011846/Desktop/full_logfiles_test/delivery*.log')\n",
    "print('delivery count:', len(traffic_delivery_logfiles))\n",
    "traffic_jrnl_logfiles = glob.glob('C:/Users/R011846/Desktop/full_logfiles_test/jrnl*.log')\n",
    "print('jrnl count:', len(traffic_jrnl_logfiles))"
   ]
  },
  {
   "cell_type": "markdown",
   "metadata": {},
   "source": [
    "### complete logfile traffic"
   ]
  },
  {
   "cell_type": "code",
   "execution_count": null,
   "metadata": {},
   "outputs": [],
   "source": [
    "# log_file_list = glob.glob('C:/Users/R011846/Desktop/full_logfiles_test/*.log')\n",
    "# print('all logs count:', len(log_file_list))"
   ]
  },
  {
   "cell_type": "markdown",
   "metadata": {},
   "source": [
    "### get column of logfile traffic type values - receipt / process / delivery / jrnl"
   ]
  },
  {
   "cell_type": "code",
   "execution_count": null,
   "metadata": {},
   "outputs": [],
   "source": [
    "# temp_list = []\n",
    "# for blah in range(len(log_file_list)):\n",
    "#     temp_list.append(log_file_list[blah].split('\\\\')[1].split('_')[0])\n",
    "# email_traffic_types = pd.DataFrame(data=save_me, columns=['log_type'])"
   ]
  },
  {
   "cell_type": "markdown",
   "metadata": {},
   "source": [
    "## Combine Logs"
   ]
  },
  {
   "cell_type": "code",
   "execution_count": null,
   "metadata": {
    "scrolled": false
   },
   "outputs": [],
   "source": [
    "combined_list, filename_list = combine_lists(log_file_list)\n",
    "print('\\nfinal clean list count:', len(combined_list))"
   ]
  },
  {
   "cell_type": "code",
   "execution_count": null,
   "metadata": {},
   "outputs": [],
   "source": []
  },
  {
   "cell_type": "code",
   "execution_count": null,
   "metadata": {},
   "outputs": [],
   "source": []
  },
  {
   "cell_type": "markdown",
   "metadata": {},
   "source": [
    "## Data IO"
   ]
  },
  {
   "cell_type": "code",
   "execution_count": null,
   "metadata": {},
   "outputs": [],
   "source": [
    "# df.to_pickle('test.pkl')\n",
    "# df = pd.read_pickle('test.pkl')"
   ]
  },
  {
   "cell_type": "code",
   "execution_count": null,
   "metadata": {},
   "outputs": [],
   "source": [
    "# df.Dir.value_counts()"
   ]
  },
  {
   "cell_type": "code",
   "execution_count": null,
   "metadata": {},
   "outputs": [],
   "source": [
    "# df_inbound = df[df.Dir == 'Inbound']\n",
    "# df_outbound = df[df.Dir == 'Outbound']\n",
    "# df_external = df[df.Dir == 'External']\n",
    "# df_internal = df[df.Dir == 'Internal']"
   ]
  },
  {
   "cell_type": "code",
   "execution_count": null,
   "metadata": {},
   "outputs": [],
   "source": [
    "# df_inbound.isna().sum()"
   ]
  },
  {
   "cell_type": "code",
   "execution_count": null,
   "metadata": {},
   "outputs": [],
   "source": [
    "# df_inbound[df_inbound.Route.isna()]"
   ]
  },
  {
   "cell_type": "code",
   "execution_count": null,
   "metadata": {},
   "outputs": [],
   "source": []
  }
 ],
 "metadata": {
  "kernelspec": {
   "display_name": "Python 3",
   "language": "python",
   "name": "python3"
  },
  "language_info": {
   "codemirror_mode": {
    "name": "ipython",
    "version": 3
   },
   "file_extension": ".py",
   "mimetype": "text/x-python",
   "name": "python",
   "nbconvert_exporter": "python",
   "pygments_lexer": "ipython3",
   "version": "3.6.7"
  }
 },
 "nbformat": 4,
 "nbformat_minor": 4
}
