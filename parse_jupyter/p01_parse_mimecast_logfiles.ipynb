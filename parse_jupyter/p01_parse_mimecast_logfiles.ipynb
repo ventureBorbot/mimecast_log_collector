{
 "cells": [
  {
   "cell_type": "code",
   "execution_count": 1,
   "metadata": {},
   "outputs": [],
   "source": [
    "import pandas as pd\n",
    "import numpy as np\n",
    "import glob\n",
    "pd.set_option('display.max_rows', 500)\n",
    "pd.set_option('display.max_columns', 500)\n",
    "pd.set_option('display.width', 10000)\n",
    "pd.set_option('display.max_colwidth', -1)\n",
    "\n",
    "import time\n",
    "from pandas_profiling import ProfileReport"
   ]
  },
  {
   "cell_type": "code",
   "execution_count": 2,
   "metadata": {},
   "outputs": [],
   "source": [
    "##################Print Multiple Cmds#####################\n",
    "from IPython.core.interactiveshell import InteractiveShell\n",
    "InteractiveShell.ast_node_interactivity = \"all\""
   ]
  },
  {
   "cell_type": "markdown",
   "metadata": {},
   "source": [
    "# IO & PARSING FUNCTIONS"
   ]
  },
  {
   "cell_type": "code",
   "execution_count": 3,
   "metadata": {},
   "outputs": [],
   "source": [
    "def read_multilog(f):\n",
    "    lst = []\n",
    "    with open(f, 'r', encoding='utf8') as filehandle:\n",
    "        for line in filehandle:\n",
    "            lst.append(line)\n",
    "    return lst"
   ]
  },
  {
   "cell_type": "code",
   "execution_count": 4,
   "metadata": {},
   "outputs": [],
   "source": [
    "def clean_multilog(logList):\n",
    "    lst = []\n",
    "    for item in range(len(logList)):\n",
    "        temp = logList[item].replace('\\n','')\n",
    "        lst.append(temp)\n",
    "    return lst"
   ]
  },
  {
   "cell_type": "code",
   "execution_count": 5,
   "metadata": {},
   "outputs": [],
   "source": [
    "def split_pipes(logList):\n",
    "    splitList = []\n",
    "    for ii in range(len(logList)):\n",
    "        temp = logList[ii].split('|')\n",
    "    return temp"
   ]
  },
  {
   "cell_type": "markdown",
   "metadata": {},
   "source": [
    "# COMBINE FUNCTIONS"
   ]
  },
  {
   "cell_type": "code",
   "execution_count": 6,
   "metadata": {
    "scrolled": false
   },
   "outputs": [],
   "source": [
    "def combine_logfiles(log_file_list):\n",
    "    combined_logs = []\n",
    "    filename_list = []\n",
    "    for log_file in range(len(log_file_list)):\n",
    "        read_list = read_multilog(log_file_list[log_file])\n",
    "        temp = clean_multilog(read_list)\n",
    "#         print(len(temp))\n",
    "        if len(temp) == 1:\n",
    "            temp1 = split_pipes(temp)\n",
    "            combined_logs.append(temp1)\n",
    "            filename_list.append(log_file_list[log_file])\n",
    "        else:\n",
    "            for item in range(len(temp)):\n",
    "                combined_logs.append(temp[item].split('|'))\n",
    "                filename_list.append(log_file_list[log_file])\n",
    "    return combined_logs, filename_list"
   ]
  },
  {
   "cell_type": "code",
   "execution_count": 7,
   "metadata": {
    "scrolled": false
   },
   "outputs": [],
   "source": [
    "def split_equalSign_combine(combined_list, filename_list):\n",
    "    df = pd.DataFrame()\n",
    "    for item in range(len(combined_list)):\n",
    "        fields = []\n",
    "        values = []\n",
    "        for record in range(len(combined_list[item])):\n",
    "            temp_record = combined_list[item][record].split('=',1)\n",
    "            fields.append(temp_record[0])\n",
    "            values.append(temp_record[1])\n",
    "\n",
    "        temp_df = pd.DataFrame(data=values).T\n",
    "        temp_df.columns = fields\n",
    "        df = df.append(temp_df, sort=False)\n",
    "\n",
    "    df = pd.concat([pd.DataFrame(filename_list, columns=['Filename']), df.reset_index(drop=True)], axis=1)\n",
    "    return df"
   ]
  },
  {
   "cell_type": "code",
   "execution_count": 8,
   "metadata": {},
   "outputs": [],
   "source": [
    "def get_split_pathname(x):\n",
    "    for k in range(x.shape[0]):\n",
    "        x.Filename[k] = x.Filename[k].split('\\\\')[1]        \n",
    "    return x"
   ]
  },
  {
   "cell_type": "markdown",
   "metadata": {},
   "source": [
    "# Process logs"
   ]
  },
  {
   "cell_type": "markdown",
   "metadata": {},
   "source": [
    "### segment mimecast traffic logfiles - receipt / process / delivery / jrnl"
   ]
  },
  {
   "cell_type": "code",
   "execution_count": 9,
   "metadata": {},
   "outputs": [],
   "source": [
    "# traffic_receipt_logfiles = glob.glob('C:/Users/R011846/Desktop/full_logfiles_test/receipt*.log')\n",
    "# print('receipt count:', len(traffic_receipt_logfiles))\n",
    "# traffic_process_logfiles = glob.glob('C:/Users/R011846/Desktop/full_logfiles_test/process*.log')\n",
    "# print('process count:', len(traffic_process_logfiles))\n",
    "# traffic_delivery_logfiles = glob.glob('C:/Users/R011846/Desktop/full_logfiles_test/delivery*.log')\n",
    "# print('delivery count:', len(traffic_delivery_logfiles))\n",
    "# traffic_jrnl_logfiles = glob.glob('C:/Users/R011846/Desktop/full_logfiles_test/jrnl*.log')\n",
    "# print('jrnl count:', len(traffic_jrnl_logfiles))"
   ]
  },
  {
   "cell_type": "code",
   "execution_count": 54,
   "metadata": {},
   "outputs": [
    {
     "name": "stdout",
     "output_type": "stream",
     "text": [
      "receipt count: 3173\n"
     ]
    }
   ],
   "source": [
    "traffic_receipt_logfiles = glob.glob('C:/Users/R011846/Documents/GitHub/mimecast_log_collector/logs/log_files/receipt*.log')\n",
    "print('receipt count:', len(traffic_receipt_logfiles))"
   ]
  },
  {
   "cell_type": "markdown",
   "metadata": {},
   "source": [
    "### complete logfile traffic"
   ]
  },
  {
   "cell_type": "code",
   "execution_count": 55,
   "metadata": {},
   "outputs": [],
   "source": [
    "# log_file_list = glob.glob('C:/Users/R011846/Desktop/full_logfiles_test/*.log')\n",
    "# print('all logs count:', len(log_file_list))"
   ]
  },
  {
   "cell_type": "markdown",
   "metadata": {},
   "source": [
    "### get column of logfile traffic type values - receipt / process / delivery / jrnl"
   ]
  },
  {
   "cell_type": "code",
   "execution_count": 56,
   "metadata": {},
   "outputs": [],
   "source": [
    "# temp_list = []\n",
    "# for blah in range(len(log_file_list)):\n",
    "#     temp_list.append(log_file_list[blah].split('\\\\')[1].split('_')[0])\n",
    "# email_traffic_types = pd.DataFrame(data=save_me, columns=['log_type'])"
   ]
  },
  {
   "cell_type": "markdown",
   "metadata": {},
   "source": [
    "# Combine Logs"
   ]
  },
  {
   "cell_type": "markdown",
   "metadata": {},
   "source": [
    "### Receipt"
   ]
  },
  {
   "cell_type": "code",
   "execution_count": 57,
   "metadata": {
    "scrolled": false
   },
   "outputs": [
    {
     "name": "stdout",
     "output_type": "stream",
     "text": [
      "\n",
      "receipt clean list count: 15688\n"
     ]
    }
   ],
   "source": [
    "combined_receipt_list, receipt_filename_list = combine_logfiles(traffic_receipt_logfiles)\n",
    "print('\\nreceipt clean list count:', len(combined_receipt_list))"
   ]
  },
  {
   "cell_type": "markdown",
   "metadata": {},
   "source": [
    "### Process"
   ]
  },
  {
   "cell_type": "code",
   "execution_count": 58,
   "metadata": {
    "scrolled": false
   },
   "outputs": [],
   "source": [
    "# combined_process_list, process_filename_list = combine_logfiles(traffic_process_logfiles)\n",
    "# print('\\nprocess clean list count:', len(combined_process_list))"
   ]
  },
  {
   "cell_type": "markdown",
   "metadata": {},
   "source": [
    "### Delivery"
   ]
  },
  {
   "cell_type": "code",
   "execution_count": 59,
   "metadata": {
    "scrolled": false
   },
   "outputs": [],
   "source": [
    "# combined_delivery_list, delivery_filename_list = combine_logfiles(traffic_delivery_logfiles)\n",
    "# print('\\ndelivery clean list count:', len(combined_delivery_list))"
   ]
  },
  {
   "cell_type": "markdown",
   "metadata": {},
   "source": [
    "# Create & write combined dataframe"
   ]
  },
  {
   "cell_type": "markdown",
   "metadata": {},
   "source": [
    "## Receipt"
   ]
  },
  {
   "cell_type": "code",
   "execution_count": 66,
   "metadata": {},
   "outputs": [
    {
     "name": "stdout",
     "output_type": "stream",
     "text": [
      "elapsed time in seconds: 370.7\n",
      "final dataframe shape: (31308, 22)\n"
     ]
    }
   ],
   "source": [
    "start = time.time()\n",
    "df_receipt2 = split_equalSign_combine(combined_receipt_list, receipt_filename_list)\n",
    "end = time.time()\n",
    "\n",
    "print('elapsed time in seconds: {:0.1f}'.format(end - start))\n",
    "print('final dataframe shape:', df_receipt.shape)"
   ]
  },
  {
   "cell_type": "code",
   "execution_count": 67,
   "metadata": {},
   "outputs": [
    {
     "data": {
      "text/html": [
       "<div>\n",
       "<style scoped>\n",
       "    .dataframe tbody tr th:only-of-type {\n",
       "        vertical-align: middle;\n",
       "    }\n",
       "\n",
       "    .dataframe tbody tr th {\n",
       "        vertical-align: top;\n",
       "    }\n",
       "\n",
       "    .dataframe thead th {\n",
       "        text-align: right;\n",
       "    }\n",
       "</style>\n",
       "<table border=\"1\" class=\"dataframe\">\n",
       "  <thead>\n",
       "    <tr style=\"text-align: right;\">\n",
       "      <th></th>\n",
       "      <th>Filename</th>\n",
       "      <th>datetime</th>\n",
       "      <th>aCode</th>\n",
       "      <th>acc</th>\n",
       "      <th>SpamLimit</th>\n",
       "      <th>IP</th>\n",
       "      <th>Dir</th>\n",
       "      <th>MsgId</th>\n",
       "      <th>Subject</th>\n",
       "      <th>headerFrom</th>\n",
       "      <th>Sender</th>\n",
       "      <th>Rcpt</th>\n",
       "      <th>SpamInfo</th>\n",
       "      <th>Act</th>\n",
       "      <th>TlsVer</th>\n",
       "      <th>Cphr</th>\n",
       "      <th>SpamScore</th>\n",
       "      <th>RejType</th>\n",
       "      <th>RejCode</th>\n",
       "      <th>RejInfo</th>\n",
       "      <th>Error</th>\n",
       "      <th>Virus</th>\n",
       "    </tr>\n",
       "  </thead>\n",
       "  <tbody>\n",
       "    <tr>\n",
       "      <td>0</td>\n",
       "      <td>receipt_20200206094427111.log</td>\n",
       "      <td>2020-02-06T09:13:14-0500</td>\n",
       "      <td>Y7CekpLRPPyY25DN0c3eZw</td>\n",
       "      <td>CUSA31A369</td>\n",
       "      <td>5</td>\n",
       "      <td>198.71.244.77</td>\n",
       "      <td>Inbound</td>\n",
       "      <td>&lt;wyF1.139573.398072.25626173.1580997787.2456126.Ajb@a2plmmsworker11.prod.phx3.gdg.mail&gt;</td>\n",
       "      <td>5 Business Process Optimization Tips</td>\n",
       "      <td>newsletters@finance-insights.us.com</td>\n",
       "      <td>sp_139573.25626173.1.2f121654b4cb1b0704784229e366ca78@bounces.em.secureserver.net</td>\n",
       "      <td>emurch@usventure.com</td>\n",
       "      <td>[]</td>\n",
       "      <td>Acc</td>\n",
       "      <td>TLSv1.2</td>\n",
       "      <td>TLS_ECDHE_RSA_WITH_AES_256_GCM_SHA384</td>\n",
       "      <td>4</td>\n",
       "      <td>NaN</td>\n",
       "      <td>NaN</td>\n",
       "      <td>NaN</td>\n",
       "      <td>NaN</td>\n",
       "      <td>NaN</td>\n",
       "    </tr>\n",
       "  </tbody>\n",
       "</table>\n",
       "</div>"
      ],
      "text/plain": [
       "                        Filename                  datetime                   aCode         acc SpamLimit             IP      Dir                                                                                    MsgId                               Subject                           headerFrom                                                                             Sender                  Rcpt SpamInfo  Act   TlsVer                                   Cphr SpamScore RejType RejCode RejInfo Error Virus\n",
       "0  receipt_20200206094427111.log  2020-02-06T09:13:14-0500  Y7CekpLRPPyY25DN0c3eZw  CUSA31A369  5         198.71.244.77  Inbound  <wyF1.139573.398072.25626173.1580997787.2456126.Ajb@a2plmmsworker11.prod.phx3.gdg.mail>  5 Business Process Optimization Tips  newsletters@finance-insights.us.com  sp_139573.25626173.1.2f121654b4cb1b0704784229e366ca78@bounces.em.secureserver.net  emurch@usventure.com  []       Acc  TLSv1.2  TLS_ECDHE_RSA_WITH_AES_256_GCM_SHA384  4         NaN     NaN     NaN     NaN   NaN "
      ]
     },
     "execution_count": 67,
     "metadata": {},
     "output_type": "execute_result"
    }
   ],
   "source": [
    "df_receipt2 = get_split_pathname(df_receipt2)\n",
    "df_receipt2.head(1)"
   ]
  },
  {
   "cell_type": "markdown",
   "metadata": {},
   "source": [
    "- Example durations: 700s, n=31,308 \n",
    "#### Output receipt pickle"
   ]
  },
  {
   "cell_type": "code",
   "execution_count": 64,
   "metadata": {},
   "outputs": [
    {
     "data": {
      "text/plain": [
       "(31308, 22)"
      ]
     },
     "execution_count": 64,
     "metadata": {},
     "output_type": "execute_result"
    }
   ],
   "source": [
    "pklName = 'all_receipt.pkl'\n",
    "# df_receipt = get_split_pathname(pd.read_pickle(pklName))\n",
    "# df_receipt.to_pickle(pklName)\n",
    "df_receipt = pd.read_pickle(pklName)\n",
    "df_receipt.shape"
   ]
  },
  {
   "cell_type": "code",
   "execution_count": 65,
   "metadata": {},
   "outputs": [
    {
     "data": {
      "text/plain": [
       "receipt_20200203164052967.log    62\n",
       "Name: Filename, dtype: int64"
      ]
     },
     "execution_count": 65,
     "metadata": {},
     "output_type": "execute_result"
    }
   ],
   "source": [
    "df_receipt[df_receipt.aCode == '1cep7I0JObKgYoyRv17sPQ'].Filename.value_counts()"
   ]
  },
  {
   "cell_type": "markdown",
   "metadata": {},
   "source": [
    "## Process"
   ]
  },
  {
   "cell_type": "code",
   "execution_count": 17,
   "metadata": {},
   "outputs": [],
   "source": [
    "# start = time.time()\n",
    "# df_process = split_equalSign_combine(combined_process_list, process_filename_list)\n",
    "# end = time.time()\n",
    "\n",
    "# print('elapsed time in seconds: {:0.1f}'.format(end - start))\n",
    "# print('final dataframe shape:', df_process.shape)"
   ]
  },
  {
   "cell_type": "markdown",
   "metadata": {},
   "source": [
    "- Example durations: 194s, n=24,303\n",
    "#### Output process pickle"
   ]
  },
  {
   "cell_type": "code",
   "execution_count": 18,
   "metadata": {},
   "outputs": [
    {
     "data": {
      "text/plain": [
       "(24303, 11)"
      ]
     },
     "execution_count": 18,
     "metadata": {},
     "output_type": "execute_result"
    }
   ],
   "source": [
    "pklName = 'all_process.pkl'\n",
    "# df_process = get_split_pathname(pd.read_pickle(pklName))\n",
    "# df_process.to_pickle(pklName)\n",
    "df_process = pd.read_pickle(pklName)\n",
    "df_process.shape"
   ]
  },
  {
   "cell_type": "markdown",
   "metadata": {},
   "source": [
    "## Delivery"
   ]
  },
  {
   "cell_type": "code",
   "execution_count": 19,
   "metadata": {},
   "outputs": [],
   "source": [
    "# start = time.time()\n",
    "# df_delivery = split_equalSign_combine(combined_delivery_list, delivery_filename_list)\n",
    "# end = time.time()\n",
    "\n",
    "# print('elapsed time in seconds: {:0.1f}'.format(end - start))\n",
    "# print('final dataframe shape:', df_delivery.shape)"
   ]
  },
  {
   "cell_type": "markdown",
   "metadata": {},
   "source": [
    "- Example durations: 574.2, n=25,555\n",
    "#### Output delivery pickle"
   ]
  },
  {
   "cell_type": "code",
   "execution_count": 20,
   "metadata": {},
   "outputs": [
    {
     "data": {
      "text/plain": [
       "(25555, 25)"
      ]
     },
     "execution_count": 20,
     "metadata": {},
     "output_type": "execute_result"
    }
   ],
   "source": [
    "pklName = 'all_delivery.pkl'\n",
    "# df_delivery = get_split_pathname(pd.read_pickle(pklName))\n",
    "# df_delivery.to_pickle(pklName)\n",
    "df_delivery = pd.read_pickle(pklName)\n",
    "df_delivery.shape"
   ]
  },
  {
   "cell_type": "markdown",
   "metadata": {},
   "source": [
    "# Process email logs direction - only INBOUND"
   ]
  },
  {
   "cell_type": "markdown",
   "metadata": {},
   "source": [
    "## Receipt"
   ]
  },
  {
   "cell_type": "code",
   "execution_count": 62,
   "metadata": {},
   "outputs": [
    {
     "data": {
      "text/plain": [
       "Inbound    15688\n",
       "Name: Dir, dtype: int64"
      ]
     },
     "execution_count": 62,
     "metadata": {},
     "output_type": "execute_result"
    },
    {
     "data": {
      "text/plain": [
       "Index(['Filename', 'datetime', 'aCode', 'acc', 'SpamLimit', 'IP', 'Dir', 'MsgId', 'Subject', 'headerFrom', 'Sender', 'Rcpt', 'SpamInfo', 'Act', 'TlsVer', 'Cphr', 'SpamScore', 'RejType', 'RejCode', 'RejInfo', 'Error', 'Virus'], dtype='object')"
      ]
     },
     "execution_count": 62,
     "metadata": {},
     "output_type": "execute_result"
    }
   ],
   "source": [
    "df_receipt.Dir.value_counts()\n",
    "\n",
    "df_inbound_rec = df_receipt[df_receipt.Dir == 'Inbound'].reset_index(drop=True)\n",
    "# df_outbound = df_receipt[df_receipt.Dir == 'Outbound'].reset_index(drop=True)\n",
    "# df_external = df_receipt[df_receipt.Dir == 'External'].reset_index(drop=True)\n",
    "# df_internal = df_receipt[df_receipt.Dir == 'Internal'].reset_index(drop=True)\n",
    "# df_inbound_rec.columns = df_inbound_rec.columns + '_receipt'\n",
    "df_inbound_rec.columns"
   ]
  },
  {
   "cell_type": "code",
   "execution_count": 22,
   "metadata": {},
   "outputs": [],
   "source": [
    "# profile = ProfileReport(df_inbound_rec, title='Pandas Profiling Report - Mimecast Receipt')\n",
    "# # # # profile.to_notebook_iframe()\n",
    "# profile.to_file(output_file='mimecast_inbound_traffic_receipt.html')"
   ]
  },
  {
   "cell_type": "code",
   "execution_count": 23,
   "metadata": {},
   "outputs": [],
   "source": [
    "# df_inbound_rec.to_csv('mimecast_inbound_traffic_receipt.csv', index=False)"
   ]
  },
  {
   "cell_type": "markdown",
   "metadata": {},
   "source": [
    "## Process - NO DIRECTION - will try to link acodes\n",
    "- There are duplicates in these files that will be removed - WHY?"
   ]
  },
  {
   "cell_type": "code",
   "execution_count": 24,
   "metadata": {},
   "outputs": [
    {
     "data": {
      "text/plain": [
       "(20057, 11)"
      ]
     },
     "execution_count": 24,
     "metadata": {},
     "output_type": "execute_result"
    },
    {
     "data": {
      "text/plain": [
       "Index(['Filename', 'datetime', 'aCode', 'acc', 'AttSize', 'Act', 'AttCnt', 'AttNames', 'MsgSize', 'MsgId', 'Hld'], dtype='object')"
      ]
     },
     "execution_count": 24,
     "metadata": {},
     "output_type": "execute_result"
    }
   ],
   "source": [
    "df_process = df_process[~df_process.duplicated()]\n",
    "df_process.shape\n",
    "# df_process.columns = df_process.columns + '_process'\n",
    "df_process.columns"
   ]
  },
  {
   "cell_type": "code",
   "execution_count": 25,
   "metadata": {},
   "outputs": [],
   "source": [
    "# profile = ProfileReport(df_process, title='Pandas Profiling Report - Mimecast Process')\n",
    "# # # # profile.to_notebook_iframe()\n",
    "# profile.to_file(output_file='mimecast_inbound_traffic_process.html')"
   ]
  },
  {
   "cell_type": "code",
   "execution_count": 26,
   "metadata": {},
   "outputs": [],
   "source": [
    "# df_process.to_csv('mimecast_inbound_traffic_process.csv', index=False)"
   ]
  },
  {
   "cell_type": "markdown",
   "metadata": {},
   "source": [
    "## Delivery"
   ]
  },
  {
   "cell_type": "code",
   "execution_count": 27,
   "metadata": {},
   "outputs": [
    {
     "data": {
      "text/plain": [
       "Inbound     13700\n",
       "Outbound    10963\n",
       "Internal    500  \n",
       "External    392  \n",
       "Name: Dir, dtype: int64"
      ]
     },
     "execution_count": 27,
     "metadata": {},
     "output_type": "execute_result"
    },
    {
     "data": {
      "text/plain": [
       "Index(['Filename', 'datetime', 'aCode', 'acc', 'Delivered', 'IP', 'AttCnt', 'Dir', 'ReceiptAck', 'MsgId', 'Subject', 'Latency', 'Sender', 'Rcpt', 'AttSize', 'Attempt', 'TlsVer', 'Cphr', 'Snt', 'UseTls', 'Route', 'Err', 'RejType', 'RejCode', 'RejInfo'], dtype='object')"
      ]
     },
     "execution_count": 27,
     "metadata": {},
     "output_type": "execute_result"
    }
   ],
   "source": [
    "df_delivery.Dir.value_counts()\n",
    "\n",
    "df_inbound_del = df_delivery[df_delivery.Dir == 'Inbound'].reset_index(drop=True)\n",
    "# df_outbound = df_delivery[df_delivery.Dir == 'Outbound'].reset_index(drop=True)\n",
    "# df_external = df_delivery[df_delivery.Dir == 'External'].reset_index(drop=True)\n",
    "# df_internal = df_delivery[df_delivery.Dir == 'Internal'].reset_index(drop=True)\n",
    "# df_inbound_del.columns = df_inbound_del.columns + '_delivery'\n",
    "df_inbound_del.columns"
   ]
  },
  {
   "cell_type": "code",
   "execution_count": 28,
   "metadata": {},
   "outputs": [],
   "source": [
    "# profile = ProfileReport(df_inbound_del, title='Pandas Profiling Report - Mimecast Delivery')\n",
    "# # # # profile.to_notebook_iframe()\n",
    "# profile.to_file(output_file='mimecast_inbound_traffic_delivery.html')"
   ]
  },
  {
   "cell_type": "code",
   "execution_count": 29,
   "metadata": {},
   "outputs": [],
   "source": [
    "# df_inbound_del.to_csv('mimecast_inbound_traffic_delivery.csv', index=False)"
   ]
  },
  {
   "cell_type": "code",
   "execution_count": 38,
   "metadata": {
    "scrolled": false
   },
   "outputs": [
    {
     "name": "stdout",
     "output_type": "stream",
     "text": [
      "receipt\n"
     ]
    },
    {
     "data": {
      "text/html": [
       "<div>\n",
       "<style scoped>\n",
       "    .dataframe tbody tr th:only-of-type {\n",
       "        vertical-align: middle;\n",
       "    }\n",
       "\n",
       "    .dataframe tbody tr th {\n",
       "        vertical-align: top;\n",
       "    }\n",
       "\n",
       "    .dataframe thead th {\n",
       "        text-align: right;\n",
       "    }\n",
       "</style>\n",
       "<table border=\"1\" class=\"dataframe\">\n",
       "  <thead>\n",
       "    <tr style=\"text-align: right;\">\n",
       "      <th></th>\n",
       "      <th>Filename</th>\n",
       "      <th>datetime</th>\n",
       "      <th>aCode</th>\n",
       "      <th>acc</th>\n",
       "      <th>SpamLimit</th>\n",
       "      <th>IP</th>\n",
       "      <th>Dir</th>\n",
       "      <th>MsgId</th>\n",
       "      <th>Subject</th>\n",
       "      <th>headerFrom</th>\n",
       "      <th>Sender</th>\n",
       "      <th>Rcpt</th>\n",
       "      <th>SpamInfo</th>\n",
       "      <th>Act</th>\n",
       "      <th>TlsVer</th>\n",
       "      <th>Cphr</th>\n",
       "      <th>SpamScore</th>\n",
       "      <th>RejInfo</th>\n",
       "      <th>RejType</th>\n",
       "      <th>Error</th>\n",
       "      <th>RejCode</th>\n",
       "      <th>Virus</th>\n",
       "    </tr>\n",
       "  </thead>\n",
       "  <tbody>\n",
       "    <tr>\n",
       "      <td>16517</td>\n",
       "      <td>receipt_20200203185428524.log</td>\n",
       "      <td>2020-02-03T18:22:59-0500</td>\n",
       "      <td>Qe6pZuT9MTGVNLs3qjhtOw</td>\n",
       "      <td>CUSA31A369</td>\n",
       "      <td>NaN</td>\n",
       "      <td>40.107.69.120</td>\n",
       "      <td>Inbound</td>\n",
       "      <td>&lt;CY4PR20MB1288C912D6778DD4518F4C65B5000@CY4PR20MB1288.namprd20.prod.outlook.com&gt;</td>\n",
       "      <td>RE: OneBucks Card Status - Julio Debrigard</td>\n",
       "      <td>lshelton@incomm.com</td>\n",
       "      <td>lshelton@incomm.com</td>\n",
       "      <td>pkoehler@usautoforce.com</td>\n",
       "      <td>NaN</td>\n",
       "      <td>Acc</td>\n",
       "      <td>TLSv1.2</td>\n",
       "      <td>TLS_ECDHE_RSA_WITH_AES_256_GCM_SHA384</td>\n",
       "      <td>NaN</td>\n",
       "      <td>NaN</td>\n",
       "      <td>NaN</td>\n",
       "      <td>NaN</td>\n",
       "      <td>NaN</td>\n",
       "      <td>NaN</td>\n",
       "    </tr>\n",
       "  </tbody>\n",
       "</table>\n",
       "</div>"
      ],
      "text/plain": [
       "                            Filename                  datetime                   aCode         acc SpamLimit             IP      Dir                                                                             MsgId                                     Subject           headerFrom               Sender                      Rcpt SpamInfo  Act   TlsVer                                   Cphr SpamScore RejInfo RejType Error RejCode Virus\n",
       "16517  receipt_20200203185428524.log  2020-02-03T18:22:59-0500  Qe6pZuT9MTGVNLs3qjhtOw  CUSA31A369  NaN       40.107.69.120  Inbound  <CY4PR20MB1288C912D6778DD4518F4C65B5000@CY4PR20MB1288.namprd20.prod.outlook.com>  RE: OneBucks Card Status - Julio Debrigard  lshelton@incomm.com  lshelton@incomm.com  pkoehler@usautoforce.com  NaN      Acc  TLSv1.2  TLS_ECDHE_RSA_WITH_AES_256_GCM_SHA384  NaN       NaN     NaN     NaN   NaN     NaN "
      ]
     },
     "execution_count": 38,
     "metadata": {},
     "output_type": "execute_result"
    },
    {
     "name": "stdout",
     "output_type": "stream",
     "text": [
      "process\n"
     ]
    },
    {
     "data": {
      "text/html": [
       "<div>\n",
       "<style scoped>\n",
       "    .dataframe tbody tr th:only-of-type {\n",
       "        vertical-align: middle;\n",
       "    }\n",
       "\n",
       "    .dataframe tbody tr th {\n",
       "        vertical-align: top;\n",
       "    }\n",
       "\n",
       "    .dataframe thead th {\n",
       "        text-align: right;\n",
       "    }\n",
       "</style>\n",
       "<table border=\"1\" class=\"dataframe\">\n",
       "  <thead>\n",
       "    <tr style=\"text-align: right;\">\n",
       "      <th></th>\n",
       "      <th>Filename</th>\n",
       "      <th>datetime</th>\n",
       "      <th>aCode</th>\n",
       "      <th>acc</th>\n",
       "      <th>AttSize</th>\n",
       "      <th>Act</th>\n",
       "      <th>AttCnt</th>\n",
       "      <th>AttNames</th>\n",
       "      <th>MsgSize</th>\n",
       "      <th>MsgId</th>\n",
       "      <th>Hld</th>\n",
       "    </tr>\n",
       "  </thead>\n",
       "  <tbody>\n",
       "    <tr>\n",
       "      <td>17158</td>\n",
       "      <td>process_20200203180615198.log</td>\n",
       "      <td>2020-02-03T17:39:24-0500</td>\n",
       "      <td>R88Zv9ewMi-l9oLb7MKcXg</td>\n",
       "      <td>CUSA31A369</td>\n",
       "      <td>0</td>\n",
       "      <td>Acc</td>\n",
       "      <td>0</td>\n",
       "      <td>\"PMPF_202002031800_3088986.TXT\"</td>\n",
       "      <td>12616</td>\n",
       "      <td>&lt;7c4c9ba3fb714c2c95ea1446095be102@COPWS001.usoil.local&gt;</td>\n",
       "      <td>NaN</td>\n",
       "    </tr>\n",
       "  </tbody>\n",
       "</table>\n",
       "</div>"
      ],
      "text/plain": [
       "                            Filename                  datetime                   aCode         acc AttSize  Act AttCnt                         AttNames MsgSize                                                    MsgId  Hld\n",
       "17158  process_20200203180615198.log  2020-02-03T17:39:24-0500  R88Zv9ewMi-l9oLb7MKcXg  CUSA31A369  0       Acc  0      \"PMPF_202002031800_3088986.TXT\"  12616   <7c4c9ba3fb714c2c95ea1446095be102@COPWS001.usoil.local>  NaN"
      ]
     },
     "execution_count": 38,
     "metadata": {},
     "output_type": "execute_result"
    },
    {
     "name": "stdout",
     "output_type": "stream",
     "text": [
      "delivery\n"
     ]
    },
    {
     "data": {
      "text/html": [
       "<div>\n",
       "<style scoped>\n",
       "    .dataframe tbody tr th:only-of-type {\n",
       "        vertical-align: middle;\n",
       "    }\n",
       "\n",
       "    .dataframe tbody tr th {\n",
       "        vertical-align: top;\n",
       "    }\n",
       "\n",
       "    .dataframe thead th {\n",
       "        text-align: right;\n",
       "    }\n",
       "</style>\n",
       "<table border=\"1\" class=\"dataframe\">\n",
       "  <thead>\n",
       "    <tr style=\"text-align: right;\">\n",
       "      <th></th>\n",
       "      <th>Filename</th>\n",
       "      <th>datetime</th>\n",
       "      <th>aCode</th>\n",
       "      <th>acc</th>\n",
       "      <th>Delivered</th>\n",
       "      <th>IP</th>\n",
       "      <th>AttCnt</th>\n",
       "      <th>Dir</th>\n",
       "      <th>ReceiptAck</th>\n",
       "      <th>MsgId</th>\n",
       "      <th>Subject</th>\n",
       "      <th>Latency</th>\n",
       "      <th>Sender</th>\n",
       "      <th>Rcpt</th>\n",
       "      <th>AttSize</th>\n",
       "      <th>Attempt</th>\n",
       "      <th>TlsVer</th>\n",
       "      <th>Cphr</th>\n",
       "      <th>Snt</th>\n",
       "      <th>UseTls</th>\n",
       "      <th>Route</th>\n",
       "      <th>Err</th>\n",
       "      <th>RejType</th>\n",
       "      <th>RejCode</th>\n",
       "      <th>RejInfo</th>\n",
       "    </tr>\n",
       "  </thead>\n",
       "  <tbody>\n",
       "    <tr>\n",
       "      <td>1054</td>\n",
       "      <td>delivery_20200203135242647.log</td>\n",
       "      <td>2020-02-03T13:25:47-0500</td>\n",
       "      <td>AORD5uqWO5qgivZ4JN6Ylw</td>\n",
       "      <td>CUSA31A369</td>\n",
       "      <td>true</td>\n",
       "      <td>4.28.59.19</td>\n",
       "      <td>0</td>\n",
       "      <td>Inbound</td>\n",
       "      <td>250 2.6.0 &lt;1340566849.-124488967.1580754038053.JavaMail.mktmail@sjmas03.marketo.org&gt; [InternalId=232112917581828, Hostname=COPWS002.usoil.local] Queued mail for delivery</td>\n",
       "      <td>&lt;1340566849.-124488967.1580754038053.JavaMail.mktmail@sjmas03.marketo.org&gt;</td>\n",
       "      <td>Webinar: Build an enterprise-ready anomaly detection solution</td>\n",
       "      <td>3530</td>\n",
       "      <td>157-gqe-382.0.1878072.0.0.597574.9.52315156-29@bounce.email.microsoft.com</td>\n",
       "      <td>ehyland@usventure.com</td>\n",
       "      <td>0</td>\n",
       "      <td>1</td>\n",
       "      <td>TLSv1.2</td>\n",
       "      <td>TLS_ECDHE_RSA_WITH_AES_256_CBC_SHA384</td>\n",
       "      <td>25596</td>\n",
       "      <td>Yes</td>\n",
       "      <td>Definition for 4.28.59.19</td>\n",
       "      <td>NaN</td>\n",
       "      <td>NaN</td>\n",
       "      <td>NaN</td>\n",
       "      <td>NaN</td>\n",
       "    </tr>\n",
       "  </tbody>\n",
       "</table>\n",
       "</div>"
      ],
      "text/plain": [
       "                            Filename                  datetime                   aCode         acc Delivered          IP AttCnt      Dir                                                                                                                                                                 ReceiptAck                                                                       MsgId                                                        Subject Latency                                                                     Sender                   Rcpt AttSize Attempt   TlsVer                                   Cphr    Snt UseTls                      Route  Err RejType RejCode RejInfo\n",
       "1054  delivery_20200203135242647.log  2020-02-03T13:25:47-0500  AORD5uqWO5qgivZ4JN6Ylw  CUSA31A369  true      4.28.59.19  0      Inbound  250 2.6.0 <1340566849.-124488967.1580754038053.JavaMail.mktmail@sjmas03.marketo.org> [InternalId=232112917581828, Hostname=COPWS002.usoil.local] Queued mail for delivery  <1340566849.-124488967.1580754038053.JavaMail.mktmail@sjmas03.marketo.org>  Webinar: Build an enterprise-ready anomaly detection solution  3530    157-gqe-382.0.1878072.0.0.597574.9.52315156-29@bounce.email.microsoft.com  ehyland@usventure.com  0       1       TLSv1.2  TLS_ECDHE_RSA_WITH_AES_256_CBC_SHA384  25596  Yes    Definition for 4.28.59.19  NaN  NaN     NaN     NaN   "
      ]
     },
     "execution_count": 38,
     "metadata": {},
     "output_type": "execute_result"
    }
   ],
   "source": [
    "print('receipt')\n",
    "df_inbound_rec.sample(1)\n",
    "print('process')\n",
    "df_process.sample(1)\n",
    "print('delivery')\n",
    "df_inbound_del.sample(1)"
   ]
  },
  {
   "cell_type": "markdown",
   "metadata": {},
   "source": [
    "# Join Data"
   ]
  },
  {
   "cell_type": "code",
   "execution_count": null,
   "metadata": {},
   "outputs": [],
   "source": [
    "# df_joined = df_inbound_del.set_index('aCode_delivery').join(\n",
    "#     df_inbound_rec.set_index('aCode_receipt'), how='left').join(\n",
    "#     df_process.set_index('aCode_process'), how='left').reset_index().rename(columns={'index':'aCode'})\n",
    "# df_joined.shape"
   ]
  }
 ],
 "metadata": {
  "kernelspec": {
   "display_name": "Python 3",
   "language": "python",
   "name": "python3"
  },
  "language_info": {
   "codemirror_mode": {
    "name": "ipython",
    "version": 3
   },
   "file_extension": ".py",
   "mimetype": "text/x-python",
   "name": "python",
   "nbconvert_exporter": "python",
   "pygments_lexer": "ipython3",
   "version": "3.6.7"
  }
 },
 "nbformat": 4,
 "nbformat_minor": 4
}
